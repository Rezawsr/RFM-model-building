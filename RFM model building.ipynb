{
 "cells": [
  {
   "cell_type": "markdown",
   "id": "b14664c3-256f-4b06-bd0c-1b16ba8bc2f9",
   "metadata": {
    "id": "TlxQIu2229YT"
   },
   "source": [
    "## UNSUPERVISED LEARNING MINI PROJECT\n",
    "\n",
    "### CONTEXT\n",
    "\n",
    "> E-commerce has become a new channel to support businesses development. Through e-commerce, businesses can get access and establish a wider market presence by providing cheaper and more efficient distribution channels for their products or services. E-commerce has also changed the way people shop and consume products and services. Many people are turning to their computers or smart devices to order goods, which can easily be delivered to their homes.\n",
    "\n",
    "### CONTENT\n",
    "> This is a sales transaction data set of UK-based e-commerce (online retail) for one year. This London-based shop has been selling gifts and homewares for adults and children through the website since 2007. Their customers come from all over the world and usually make direct purchases for themselves. There are also small businesses that buy in bulk and sell to other customers through retail outlet channels.\n",
    "\n",
    "> The data set contains 500K rows and 8 columns. The following is the description of each column.\n",
    "\n",
    "> - **TransactionNo (categorical)**: a six-digit unique number that defines each transaction. The letter “C” in the code indicates a cancellation.\n",
    "> - **Date (numeric)**: the date when each transaction was generated.\n",
    "> - **ProductNo (categorical)**: a five or six-digit unique character used to identify a specific product.\n",
    "> - **Product (categorical)**: product/item name.\n",
    "> - **Price (numeric)**: the price of each product per unit in pound sterling (£).\n",
    "> - **Quantity (numeric)**: the quantity of each product per transaction. Negative values related to cancelled transactions.\n",
    "> - **CustomerNo (categorical)**: a five-digit unique number that defines each customer.\n",
    "> - **Country (categorical)**: name of the country where the customer resides.\n",
    "\n",
    "### GOAL\n",
    "\n",
    "> Gather useful intrinsic information by combining RFM model and some unsupervised learning model. \n",
    "\n",
    "> For each segments, analyze the data, and try to answer the following questions:\n",
    "\n",
    "> - How was the sales trend over the months?\n",
    "> - What are the most frequent purchased products?\n",
    "> - How many products does the customer purchase in each transaction?\n",
    "> - How does each cluster/group contribute to the company's revenue?\n",
    "> - What are the interval date between transactions?\n",
    "> - Based on your findings, what strategy could you recommend to the business to gain more profit?\n",
    "> - ***add more if necessary***\n",
    "\n",
    "> Also, there is a small percentage of order cancellation in the data set. Most of these cancellations were due to out-of-stock conditions on some products. Under this situation, customers tend to cancel an order as they want all products delivered all at once. \n",
    "\n",
    "> Therefore, try to build a supervised learning model to solve this problem.\n",
    "\n",
    "> Source from UCI Machine Learning Repository: [link to dataset](https://archive.ics.uci.edu/ml/datasets/online+retail)"
   ]
  },
  {
   "cell_type": "code",
   "execution_count": 1,
   "id": "9bf99b7e-0821-4dcb-aa38-7029536355ca",
   "metadata": {
    "id": "bwsIaxzC29Yb"
   },
   "outputs": [],
   "source": [
    "# import all necessary library\n",
    "import numpy as np\n",
    "import pandas as pd\n",
    "import matplotlib.pyplot as plt\n",
    "import seaborn as sns\n",
    "from sklearn.cluster import KMeans, DBSCAN\n",
    "from sklearn.preprocessing import RobustScaler\n",
    "from sklearn import metrics\n",
    "\n",
    "# Library untuk clustering\n",
    "import scipy.cluster.hierarchy as sch\n",
    "from sklearn.cluster import KMeans, AgglomerativeClustering, DBSCAN\n",
    "from sklearn.neighbors import NearestNeighbors\n",
    "from scipy.spatial.distance import cdist\n",
    "\n",
    "from sklearn.model_selection import train_test_split\n",
    "from sklearn.linear_model import LogisticRegression\n",
    "from sklearn.tree import DecisionTreeClassifier, plot_tree, export_graphviz\n",
    "from sklearn.model_selection import KFold, cross_val_score, cross_validate\n",
    "from sklearn.metrics import confusion_matrix, classification_report, precision_recall_curve, accuracy_score, recall_score, roc_auc_score, roc_curve, precision_score, recall_score, f1_score\n",
    "from imblearn import FunctionSampler\n",
    "from sklearn.ensemble import RandomForestClassifier, AdaBoostClassifier, ExtraTreesClassifier, StackingClassifier, GradientBoostingClassifier\n",
    "from sklearn.model_selection import RandomizedSearchCV, GridSearchCV\n",
    "from skopt import BayesSearchCV\n",
    "from imblearn.over_sampling import SMOTE\n",
    "# Library untuk DB Index untuk mengukur hasil clustering\n",
    "from sklearn.metrics import davies_bouldin_score\n",
    "import warnings\n",
    "warnings.filterwarnings('ignore')"
   ]
  },
  {
   "cell_type": "markdown",
   "id": "b16fca1a-b5b6-4437-90d9-3cdf657374b7",
   "metadata": {
    "id": "Nd3dTuTW29Ya",
    "tags": []
   },
   "source": [
    "## OVERVIEW"
   ]
  },
  {
   "cell_type": "markdown",
   "id": "923b42d6-4b79-4a4e-9240-7d01f1c13ce9",
   "metadata": {
    "id": "4-D85uB729Yd"
   },
   "source": [
    "> Here we will inspect the data for quality checking."
   ]
  },
  {
   "cell_type": "code",
   "execution_count": 2,
   "id": "f0c5c1cf-e0e9-40aa-9700-cd9dd58aefc4",
   "metadata": {
    "id": "HFY8P3fT29Ye"
   },
   "outputs": [],
   "source": [
    "# load data\n",
    "df = pd.read_excel(\"https://archive.ics.uci.edu/ml/machine-learning-databases/00352/Online%20Retail.xlsx\")"
   ]
  },
  {
   "cell_type": "code",
   "execution_count": 3,
   "id": "2c99e172-c830-4a1f-a883-e53642e478a4",
   "metadata": {
    "id": "J7LkrKA-29Yf",
    "outputId": "62f22bce-12b9-46ed-8df2-44eab05a8262"
   },
   "outputs": [
    {
     "data": {
      "text/html": [
       "<div>\n",
       "<style scoped>\n",
       "    .dataframe tbody tr th:only-of-type {\n",
       "        vertical-align: middle;\n",
       "    }\n",
       "\n",
       "    .dataframe tbody tr th {\n",
       "        vertical-align: top;\n",
       "    }\n",
       "\n",
       "    .dataframe thead th {\n",
       "        text-align: right;\n",
       "    }\n",
       "</style>\n",
       "<table border=\"1\" class=\"dataframe\">\n",
       "  <thead>\n",
       "    <tr style=\"text-align: right;\">\n",
       "      <th></th>\n",
       "      <th>InvoiceNo</th>\n",
       "      <th>StockCode</th>\n",
       "      <th>Description</th>\n",
       "      <th>Quantity</th>\n",
       "      <th>InvoiceDate</th>\n",
       "      <th>UnitPrice</th>\n",
       "      <th>CustomerID</th>\n",
       "      <th>Country</th>\n",
       "    </tr>\n",
       "  </thead>\n",
       "  <tbody>\n",
       "    <tr>\n",
       "      <th>0</th>\n",
       "      <td>536365</td>\n",
       "      <td>85123A</td>\n",
       "      <td>WHITE HANGING HEART T-LIGHT HOLDER</td>\n",
       "      <td>6</td>\n",
       "      <td>2010-12-01 08:26:00</td>\n",
       "      <td>2.55</td>\n",
       "      <td>17850.0</td>\n",
       "      <td>United Kingdom</td>\n",
       "    </tr>\n",
       "    <tr>\n",
       "      <th>1</th>\n",
       "      <td>536365</td>\n",
       "      <td>71053</td>\n",
       "      <td>WHITE METAL LANTERN</td>\n",
       "      <td>6</td>\n",
       "      <td>2010-12-01 08:26:00</td>\n",
       "      <td>3.39</td>\n",
       "      <td>17850.0</td>\n",
       "      <td>United Kingdom</td>\n",
       "    </tr>\n",
       "    <tr>\n",
       "      <th>2</th>\n",
       "      <td>536365</td>\n",
       "      <td>84406B</td>\n",
       "      <td>CREAM CUPID HEARTS COAT HANGER</td>\n",
       "      <td>8</td>\n",
       "      <td>2010-12-01 08:26:00</td>\n",
       "      <td>2.75</td>\n",
       "      <td>17850.0</td>\n",
       "      <td>United Kingdom</td>\n",
       "    </tr>\n",
       "    <tr>\n",
       "      <th>3</th>\n",
       "      <td>536365</td>\n",
       "      <td>84029G</td>\n",
       "      <td>KNITTED UNION FLAG HOT WATER BOTTLE</td>\n",
       "      <td>6</td>\n",
       "      <td>2010-12-01 08:26:00</td>\n",
       "      <td>3.39</td>\n",
       "      <td>17850.0</td>\n",
       "      <td>United Kingdom</td>\n",
       "    </tr>\n",
       "    <tr>\n",
       "      <th>4</th>\n",
       "      <td>536365</td>\n",
       "      <td>84029E</td>\n",
       "      <td>RED WOOLLY HOTTIE WHITE HEART.</td>\n",
       "      <td>6</td>\n",
       "      <td>2010-12-01 08:26:00</td>\n",
       "      <td>3.39</td>\n",
       "      <td>17850.0</td>\n",
       "      <td>United Kingdom</td>\n",
       "    </tr>\n",
       "  </tbody>\n",
       "</table>\n",
       "</div>"
      ],
      "text/plain": [
       "  InvoiceNo StockCode                          Description  Quantity  \\\n",
       "0    536365    85123A   WHITE HANGING HEART T-LIGHT HOLDER         6   \n",
       "1    536365     71053                  WHITE METAL LANTERN         6   \n",
       "2    536365    84406B       CREAM CUPID HEARTS COAT HANGER         8   \n",
       "3    536365    84029G  KNITTED UNION FLAG HOT WATER BOTTLE         6   \n",
       "4    536365    84029E       RED WOOLLY HOTTIE WHITE HEART.         6   \n",
       "\n",
       "          InvoiceDate  UnitPrice  CustomerID         Country  \n",
       "0 2010-12-01 08:26:00       2.55     17850.0  United Kingdom  \n",
       "1 2010-12-01 08:26:00       3.39     17850.0  United Kingdom  \n",
       "2 2010-12-01 08:26:00       2.75     17850.0  United Kingdom  \n",
       "3 2010-12-01 08:26:00       3.39     17850.0  United Kingdom  \n",
       "4 2010-12-01 08:26:00       3.39     17850.0  United Kingdom  "
      ]
     },
     "execution_count": 3,
     "metadata": {},
     "output_type": "execute_result"
    }
   ],
   "source": [
    "# check head\n",
    "df.head()"
   ]
  },
  {
   "cell_type": "code",
   "execution_count": 4,
   "id": "c7d05445-b962-4fe6-8dad-b112a2b193f0",
   "metadata": {
    "id": "HA5UuW_a29Yh",
    "outputId": "fe9ed92c-26eb-41e1-9d75-3bc9020c0b5a"
   },
   "outputs": [
    {
     "name": "stdout",
     "output_type": "stream",
     "text": [
      "<class 'pandas.core.frame.DataFrame'>\n",
      "RangeIndex: 541909 entries, 0 to 541908\n",
      "Data columns (total 8 columns):\n",
      " #   Column       Non-Null Count   Dtype         \n",
      "---  ------       --------------   -----         \n",
      " 0   InvoiceNo    541909 non-null  object        \n",
      " 1   StockCode    541909 non-null  object        \n",
      " 2   Description  540455 non-null  object        \n",
      " 3   Quantity     541909 non-null  int64         \n",
      " 4   InvoiceDate  541909 non-null  datetime64[ns]\n",
      " 5   UnitPrice    541909 non-null  float64       \n",
      " 6   CustomerID   406829 non-null  float64       \n",
      " 7   Country      541909 non-null  object        \n",
      "dtypes: datetime64[ns](1), float64(2), int64(1), object(4)\n",
      "memory usage: 33.1+ MB\n"
     ]
    }
   ],
   "source": [
    "# check datatype\n",
    "df.info()"
   ]
  },
  {
   "cell_type": "markdown",
   "id": "7338e327-bf1e-4277-8a9c-882c99f17330",
   "metadata": {
    "id": "kuzzLyfl29Yj",
    "tags": []
   },
   "source": [
    "> We can see that there are 2 features with missing values (null)."
   ]
  },
  {
   "cell_type": "code",
   "execution_count": 5,
   "id": "71467705-3564-4ee4-b0ab-69cb777d001e",
   "metadata": {
    "id": "a0-2ZLM_29Yj",
    "outputId": "394d1bb6-49f1-43e2-a1a0-6ad3fc369543"
   },
   "outputs": [
    {
     "data": {
      "text/plain": [
       "InvoiceNo           0\n",
       "StockCode           0\n",
       "Description      1454\n",
       "Quantity            0\n",
       "InvoiceDate         0\n",
       "UnitPrice           0\n",
       "CustomerID     135080\n",
       "Country             0\n",
       "dtype: int64"
      ]
     },
     "execution_count": 5,
     "metadata": {},
     "output_type": "execute_result"
    }
   ],
   "source": [
    "# check null\n",
    "df.isna().sum()"
   ]
  },
  {
   "cell_type": "markdown",
   "id": "b07ef9ee-44de-4024-a281-3febcda3d6fa",
   "metadata": {
    "id": "jdo08PQX29Yl",
    "tags": []
   },
   "source": [
    "## PREPROCESSING"
   ]
  },
  {
   "cell_type": "markdown",
   "id": "8a1f470a-1203-485b-a22d-4b3e7513428a",
   "metadata": {
    "id": "4NZtJQ7G29Yl"
   },
   "source": [
    "> Since many of the missing values is on the important features (CustomerID), and it's considered as an identifier that will plays an important role to the RFM models, therefore we cannot do anything to this other than dropping the values on this features."
   ]
  },
  {
   "cell_type": "code",
   "execution_count": 6,
   "id": "fe2c05be-1a37-4e84-a230-72c1fb305b0a",
   "metadata": {
    "id": "V93UPonl29Ym"
   },
   "outputs": [],
   "source": [
    "# dropna\n",
    "df = df.dropna()"
   ]
  },
  {
   "cell_type": "code",
   "execution_count": 7,
   "id": "a61b1abe-33d6-4e03-bedc-470beef2f31d",
   "metadata": {
    "id": "q_l3G9lA29Yn",
    "outputId": "b4fc9ffb-2253-45e6-eda4-cb755e982135"
   },
   "outputs": [
    {
     "name": "stdout",
     "output_type": "stream",
     "text": [
      "<class 'pandas.core.frame.DataFrame'>\n",
      "Int64Index: 406829 entries, 0 to 541908\n",
      "Data columns (total 8 columns):\n",
      " #   Column       Non-Null Count   Dtype         \n",
      "---  ------       --------------   -----         \n",
      " 0   InvoiceNo    406829 non-null  object        \n",
      " 1   StockCode    406829 non-null  object        \n",
      " 2   Description  406829 non-null  object        \n",
      " 3   Quantity     406829 non-null  int64         \n",
      " 4   InvoiceDate  406829 non-null  datetime64[ns]\n",
      " 5   UnitPrice    406829 non-null  float64       \n",
      " 6   CustomerID   406829 non-null  float64       \n",
      " 7   Country      406829 non-null  object        \n",
      "dtypes: datetime64[ns](1), float64(2), int64(1), object(4)\n",
      "memory usage: 27.9+ MB\n"
     ]
    }
   ],
   "source": [
    "# check info after dropping\n",
    "df.info()"
   ]
  },
  {
   "cell_type": "markdown",
   "id": "37a97038-25d5-441d-9419-2860b8bc7199",
   "metadata": {
    "id": "ot4_1w5E29Yo"
   },
   "source": [
    "> Since the missing values has been handled, next we will try to create a new features (TotalCost) that will play an important role on RFM for monetary value later.\n",
    "\n",
    "> *TotalCost = Quantity x UnitPrice*."
   ]
  },
  {
   "cell_type": "code",
   "execution_count": 8,
   "id": "271ed295-744d-4740-a784-b7187be14edb",
   "metadata": {
    "id": "xyiMforo29Yp"
   },
   "outputs": [],
   "source": [
    "# create TotalCost\n",
    "df[\"TotalCost\"] = df[\"Quantity\"]*df[\"UnitPrice\"]"
   ]
  },
  {
   "cell_type": "code",
   "execution_count": 9,
   "id": "db7928e8-4494-4ba0-b694-37ef6ff6fd92",
   "metadata": {
    "id": "nKT878Z929Yq",
    "outputId": "02e06e19-90ae-4f0c-e291-e9211276a8dc"
   },
   "outputs": [
    {
     "data": {
      "text/html": [
       "<div>\n",
       "<style scoped>\n",
       "    .dataframe tbody tr th:only-of-type {\n",
       "        vertical-align: middle;\n",
       "    }\n",
       "\n",
       "    .dataframe tbody tr th {\n",
       "        vertical-align: top;\n",
       "    }\n",
       "\n",
       "    .dataframe thead th {\n",
       "        text-align: right;\n",
       "    }\n",
       "</style>\n",
       "<table border=\"1\" class=\"dataframe\">\n",
       "  <thead>\n",
       "    <tr style=\"text-align: right;\">\n",
       "      <th></th>\n",
       "      <th>InvoiceNo</th>\n",
       "      <th>StockCode</th>\n",
       "      <th>Description</th>\n",
       "      <th>Quantity</th>\n",
       "      <th>InvoiceDate</th>\n",
       "      <th>UnitPrice</th>\n",
       "      <th>CustomerID</th>\n",
       "      <th>Country</th>\n",
       "      <th>TotalCost</th>\n",
       "    </tr>\n",
       "  </thead>\n",
       "  <tbody>\n",
       "    <tr>\n",
       "      <th>0</th>\n",
       "      <td>536365</td>\n",
       "      <td>85123A</td>\n",
       "      <td>WHITE HANGING HEART T-LIGHT HOLDER</td>\n",
       "      <td>6</td>\n",
       "      <td>2010-12-01 08:26:00</td>\n",
       "      <td>2.55</td>\n",
       "      <td>17850.0</td>\n",
       "      <td>United Kingdom</td>\n",
       "      <td>15.30</td>\n",
       "    </tr>\n",
       "    <tr>\n",
       "      <th>1</th>\n",
       "      <td>536365</td>\n",
       "      <td>71053</td>\n",
       "      <td>WHITE METAL LANTERN</td>\n",
       "      <td>6</td>\n",
       "      <td>2010-12-01 08:26:00</td>\n",
       "      <td>3.39</td>\n",
       "      <td>17850.0</td>\n",
       "      <td>United Kingdom</td>\n",
       "      <td>20.34</td>\n",
       "    </tr>\n",
       "    <tr>\n",
       "      <th>2</th>\n",
       "      <td>536365</td>\n",
       "      <td>84406B</td>\n",
       "      <td>CREAM CUPID HEARTS COAT HANGER</td>\n",
       "      <td>8</td>\n",
       "      <td>2010-12-01 08:26:00</td>\n",
       "      <td>2.75</td>\n",
       "      <td>17850.0</td>\n",
       "      <td>United Kingdom</td>\n",
       "      <td>22.00</td>\n",
       "    </tr>\n",
       "    <tr>\n",
       "      <th>3</th>\n",
       "      <td>536365</td>\n",
       "      <td>84029G</td>\n",
       "      <td>KNITTED UNION FLAG HOT WATER BOTTLE</td>\n",
       "      <td>6</td>\n",
       "      <td>2010-12-01 08:26:00</td>\n",
       "      <td>3.39</td>\n",
       "      <td>17850.0</td>\n",
       "      <td>United Kingdom</td>\n",
       "      <td>20.34</td>\n",
       "    </tr>\n",
       "    <tr>\n",
       "      <th>4</th>\n",
       "      <td>536365</td>\n",
       "      <td>84029E</td>\n",
       "      <td>RED WOOLLY HOTTIE WHITE HEART.</td>\n",
       "      <td>6</td>\n",
       "      <td>2010-12-01 08:26:00</td>\n",
       "      <td>3.39</td>\n",
       "      <td>17850.0</td>\n",
       "      <td>United Kingdom</td>\n",
       "      <td>20.34</td>\n",
       "    </tr>\n",
       "  </tbody>\n",
       "</table>\n",
       "</div>"
      ],
      "text/plain": [
       "  InvoiceNo StockCode                          Description  Quantity  \\\n",
       "0    536365    85123A   WHITE HANGING HEART T-LIGHT HOLDER         6   \n",
       "1    536365     71053                  WHITE METAL LANTERN         6   \n",
       "2    536365    84406B       CREAM CUPID HEARTS COAT HANGER         8   \n",
       "3    536365    84029G  KNITTED UNION FLAG HOT WATER BOTTLE         6   \n",
       "4    536365    84029E       RED WOOLLY HOTTIE WHITE HEART.         6   \n",
       "\n",
       "          InvoiceDate  UnitPrice  CustomerID         Country  TotalCost  \n",
       "0 2010-12-01 08:26:00       2.55     17850.0  United Kingdom      15.30  \n",
       "1 2010-12-01 08:26:00       3.39     17850.0  United Kingdom      20.34  \n",
       "2 2010-12-01 08:26:00       2.75     17850.0  United Kingdom      22.00  \n",
       "3 2010-12-01 08:26:00       3.39     17850.0  United Kingdom      20.34  \n",
       "4 2010-12-01 08:26:00       3.39     17850.0  United Kingdom      20.34  "
      ]
     },
     "execution_count": 9,
     "metadata": {},
     "output_type": "execute_result"
    }
   ],
   "source": [
    "# check new features\n",
    "df.head()"
   ]
  },
  {
   "cell_type": "markdown",
   "id": "fb4adff7-3a41-4972-9b87-3ab454b8e349",
   "metadata": {
    "id": "epQ3GQKj29Yr"
   },
   "source": [
    "> Then we will adjust the InvoiceDate format. We will create a new feature for it, so that it will fit the RFM model."
   ]
  },
  {
   "cell_type": "code",
   "execution_count": 10,
   "id": "e5caee42-b6c3-4d35-a22d-1febb0503e58",
   "metadata": {
    "id": "CSb8nPS929Ys"
   },
   "outputs": [],
   "source": [
    "# create new feature and change its type\n",
    "df[\"TransactionDate\"] = pd.to_datetime(df[\"InvoiceDate\"]).dt.date\n",
    "df[\"TransactionDate\"] = pd.to_datetime(df[\"TransactionDate\"])"
   ]
  },
  {
   "cell_type": "code",
   "execution_count": 11,
   "id": "627fe820-8701-42db-9ac2-b2ea48a55fef",
   "metadata": {
    "id": "niThSs6D29Ys",
    "outputId": "228bace1-3182-4d1f-81a2-b719f337c7bd"
   },
   "outputs": [
    {
     "data": {
      "text/html": [
       "<div>\n",
       "<style scoped>\n",
       "    .dataframe tbody tr th:only-of-type {\n",
       "        vertical-align: middle;\n",
       "    }\n",
       "\n",
       "    .dataframe tbody tr th {\n",
       "        vertical-align: top;\n",
       "    }\n",
       "\n",
       "    .dataframe thead th {\n",
       "        text-align: right;\n",
       "    }\n",
       "</style>\n",
       "<table border=\"1\" class=\"dataframe\">\n",
       "  <thead>\n",
       "    <tr style=\"text-align: right;\">\n",
       "      <th></th>\n",
       "      <th>InvoiceNo</th>\n",
       "      <th>StockCode</th>\n",
       "      <th>Description</th>\n",
       "      <th>Quantity</th>\n",
       "      <th>InvoiceDate</th>\n",
       "      <th>UnitPrice</th>\n",
       "      <th>CustomerID</th>\n",
       "      <th>Country</th>\n",
       "      <th>TotalCost</th>\n",
       "      <th>TransactionDate</th>\n",
       "    </tr>\n",
       "  </thead>\n",
       "  <tbody>\n",
       "    <tr>\n",
       "      <th>0</th>\n",
       "      <td>536365</td>\n",
       "      <td>85123A</td>\n",
       "      <td>WHITE HANGING HEART T-LIGHT HOLDER</td>\n",
       "      <td>6</td>\n",
       "      <td>2010-12-01 08:26:00</td>\n",
       "      <td>2.55</td>\n",
       "      <td>17850.0</td>\n",
       "      <td>United Kingdom</td>\n",
       "      <td>15.30</td>\n",
       "      <td>2010-12-01</td>\n",
       "    </tr>\n",
       "    <tr>\n",
       "      <th>1</th>\n",
       "      <td>536365</td>\n",
       "      <td>71053</td>\n",
       "      <td>WHITE METAL LANTERN</td>\n",
       "      <td>6</td>\n",
       "      <td>2010-12-01 08:26:00</td>\n",
       "      <td>3.39</td>\n",
       "      <td>17850.0</td>\n",
       "      <td>United Kingdom</td>\n",
       "      <td>20.34</td>\n",
       "      <td>2010-12-01</td>\n",
       "    </tr>\n",
       "    <tr>\n",
       "      <th>2</th>\n",
       "      <td>536365</td>\n",
       "      <td>84406B</td>\n",
       "      <td>CREAM CUPID HEARTS COAT HANGER</td>\n",
       "      <td>8</td>\n",
       "      <td>2010-12-01 08:26:00</td>\n",
       "      <td>2.75</td>\n",
       "      <td>17850.0</td>\n",
       "      <td>United Kingdom</td>\n",
       "      <td>22.00</td>\n",
       "      <td>2010-12-01</td>\n",
       "    </tr>\n",
       "    <tr>\n",
       "      <th>3</th>\n",
       "      <td>536365</td>\n",
       "      <td>84029G</td>\n",
       "      <td>KNITTED UNION FLAG HOT WATER BOTTLE</td>\n",
       "      <td>6</td>\n",
       "      <td>2010-12-01 08:26:00</td>\n",
       "      <td>3.39</td>\n",
       "      <td>17850.0</td>\n",
       "      <td>United Kingdom</td>\n",
       "      <td>20.34</td>\n",
       "      <td>2010-12-01</td>\n",
       "    </tr>\n",
       "    <tr>\n",
       "      <th>4</th>\n",
       "      <td>536365</td>\n",
       "      <td>84029E</td>\n",
       "      <td>RED WOOLLY HOTTIE WHITE HEART.</td>\n",
       "      <td>6</td>\n",
       "      <td>2010-12-01 08:26:00</td>\n",
       "      <td>3.39</td>\n",
       "      <td>17850.0</td>\n",
       "      <td>United Kingdom</td>\n",
       "      <td>20.34</td>\n",
       "      <td>2010-12-01</td>\n",
       "    </tr>\n",
       "  </tbody>\n",
       "</table>\n",
       "</div>"
      ],
      "text/plain": [
       "  InvoiceNo StockCode                          Description  Quantity  \\\n",
       "0    536365    85123A   WHITE HANGING HEART T-LIGHT HOLDER         6   \n",
       "1    536365     71053                  WHITE METAL LANTERN         6   \n",
       "2    536365    84406B       CREAM CUPID HEARTS COAT HANGER         8   \n",
       "3    536365    84029G  KNITTED UNION FLAG HOT WATER BOTTLE         6   \n",
       "4    536365    84029E       RED WOOLLY HOTTIE WHITE HEART.         6   \n",
       "\n",
       "          InvoiceDate  UnitPrice  CustomerID         Country  TotalCost  \\\n",
       "0 2010-12-01 08:26:00       2.55     17850.0  United Kingdom      15.30   \n",
       "1 2010-12-01 08:26:00       3.39     17850.0  United Kingdom      20.34   \n",
       "2 2010-12-01 08:26:00       2.75     17850.0  United Kingdom      22.00   \n",
       "3 2010-12-01 08:26:00       3.39     17850.0  United Kingdom      20.34   \n",
       "4 2010-12-01 08:26:00       3.39     17850.0  United Kingdom      20.34   \n",
       "\n",
       "  TransactionDate  \n",
       "0      2010-12-01  \n",
       "1      2010-12-01  \n",
       "2      2010-12-01  \n",
       "3      2010-12-01  \n",
       "4      2010-12-01  "
      ]
     },
     "execution_count": 11,
     "metadata": {},
     "output_type": "execute_result"
    }
   ],
   "source": [
    "# check new features\n",
    "df.head()"
   ]
  },
  {
   "cell_type": "markdown",
   "id": "cc34dfd7-725a-494e-9bc5-03df97372eb6",
   "metadata": {
    "id": "E6Alr4Nx29Yt"
   },
   "source": [
    "> We will also prepare the 'target' feature for supervised prediction later."
   ]
  },
  {
   "cell_type": "code",
   "execution_count": 12,
   "id": "67393de1-0776-4ecf-86fd-72b76586aa2d",
   "metadata": {
    "id": "dXtGrzmC29Yt"
   },
   "outputs": [],
   "source": [
    "# prepare target feature, 1 : cancelled order, 0 : completed order\n",
    "cancel = []\n",
    "for i in df[\"InvoiceNo\"]:\n",
    "    if str(i).startswith(\"C\"):\n",
    "        cancel.append(1)\n",
    "    else:\n",
    "        cancel.append(0)"
   ]
  },
  {
   "cell_type": "code",
   "execution_count": 13,
   "id": "211e1914-a5d6-4a59-ab49-1d9e8b62175c",
   "metadata": {
    "id": "iyiMYqa829Yt"
   },
   "outputs": [],
   "source": [
    "# apply target\n",
    "df[\"cancelled\"] = cancel"
   ]
  },
  {
   "cell_type": "code",
   "execution_count": 14,
   "id": "f97f748f-0be2-4a01-9b9e-9225f5b0e5e5",
   "metadata": {
    "id": "Ns023eZw29Yu",
    "outputId": "cbb62270-3c2c-4699-ab57-c39bc6d194c7"
   },
   "outputs": [
    {
     "name": "stdout",
     "output_type": "stream",
     "text": [
      "<class 'pandas.core.frame.DataFrame'>\n",
      "Int64Index: 406829 entries, 0 to 541908\n",
      "Data columns (total 11 columns):\n",
      " #   Column           Non-Null Count   Dtype         \n",
      "---  ------           --------------   -----         \n",
      " 0   InvoiceNo        406829 non-null  object        \n",
      " 1   StockCode        406829 non-null  object        \n",
      " 2   Description      406829 non-null  object        \n",
      " 3   Quantity         406829 non-null  int64         \n",
      " 4   InvoiceDate      406829 non-null  datetime64[ns]\n",
      " 5   UnitPrice        406829 non-null  float64       \n",
      " 6   CustomerID       406829 non-null  float64       \n",
      " 7   Country          406829 non-null  object        \n",
      " 8   TotalCost        406829 non-null  float64       \n",
      " 9   TransactionDate  406829 non-null  datetime64[ns]\n",
      " 10  cancelled        406829 non-null  int64         \n",
      "dtypes: datetime64[ns](2), float64(3), int64(2), object(4)\n",
      "memory usage: 37.2+ MB\n"
     ]
    }
   ],
   "source": [
    "# check info\n",
    "df.info()"
   ]
  },
  {
   "cell_type": "markdown",
   "id": "afa2c640-7478-4ce1-b817-1b893af75228",
   "metadata": {
    "id": "U0NEAFQg29Yu"
   },
   "source": [
    "> Now that we've finished the preprocess, we will copy the data and then start to build the rfm model."
   ]
  },
  {
   "cell_type": "code",
   "execution_count": 15,
   "id": "e5976da5-58a3-4e34-8b5d-86549c3af127",
   "metadata": {
    "id": "I9tqy14r29Yu"
   },
   "outputs": [],
   "source": [
    "# create copy for rfm modeling\n",
    "df1 = df.copy()"
   ]
  },
  {
   "cell_type": "markdown",
   "id": "d92cae7a-e848-4369-8a92-5495c4517cdb",
   "metadata": {
    "id": "K6vIr7MG29Yv",
    "tags": []
   },
   "source": [
    "## RFM MODEL BUILDING"
   ]
  },
  {
   "cell_type": "markdown",
   "id": "d978b851-7677-41ad-899c-6b18155dd92e",
   "metadata": {
    "id": "N96svB9N_pUj"
   },
   "source": [
    "> RFM is the process of analyzing customer behavior. This model is used based on three variables, interval date between transaction, the frequency of transaction, and the monetary amount of transaction for each customer."
   ]
  },
  {
   "cell_type": "code",
   "execution_count": 16,
   "id": "3112ec13-c4d4-4b7c-95f8-582e05a07f42",
   "metadata": {
    "id": "lV005Rnj_pUk"
   },
   "outputs": [],
   "source": [
    "# last transaction date on invoice\n",
    "now = pd.to_datetime(df1['TransactionDate'].max())"
   ]
  },
  {
   "cell_type": "code",
   "execution_count": 17,
   "id": "40b68209-0dac-4579-bfe9-6410f60b656c",
   "metadata": {
    "id": "Le45zBUo_pUk"
   },
   "outputs": [],
   "source": [
    "# get customers last transaction date\n",
    "recency = df1.groupby(by = 'CustomerID', as_index=False)['TransactionDate'].max()\n",
    "recency.columns = ['CustomerID', 'LastTransactionDate']\n",
    "\n",
    "# calculate recency\n",
    "recency['LastTransactionDate'] = pd.to_datetime(recency['LastTransactionDate'])\n",
    "recency['recency'] = recency['LastTransactionDate'].apply(lambda x: (now-x).days)"
   ]
  },
  {
   "cell_type": "code",
   "execution_count": 18,
   "id": "08a3a4b2-39b5-4730-82ec-83e965fc8746",
   "metadata": {
    "id": "Dg5UQ1Bj_pUl",
    "outputId": "de51212f-5d2f-49dd-98f3-1b370c6bfe02"
   },
   "outputs": [
    {
     "data": {
      "text/html": [
       "<div>\n",
       "<style scoped>\n",
       "    .dataframe tbody tr th:only-of-type {\n",
       "        vertical-align: middle;\n",
       "    }\n",
       "\n",
       "    .dataframe tbody tr th {\n",
       "        vertical-align: top;\n",
       "    }\n",
       "\n",
       "    .dataframe thead th {\n",
       "        text-align: right;\n",
       "    }\n",
       "</style>\n",
       "<table border=\"1\" class=\"dataframe\">\n",
       "  <thead>\n",
       "    <tr style=\"text-align: right;\">\n",
       "      <th></th>\n",
       "      <th>CustomerID</th>\n",
       "      <th>LastTransactionDate</th>\n",
       "      <th>recency</th>\n",
       "    </tr>\n",
       "  </thead>\n",
       "  <tbody>\n",
       "    <tr>\n",
       "      <th>0</th>\n",
       "      <td>12346.0</td>\n",
       "      <td>2011-01-18</td>\n",
       "      <td>325</td>\n",
       "    </tr>\n",
       "    <tr>\n",
       "      <th>1</th>\n",
       "      <td>12347.0</td>\n",
       "      <td>2011-12-07</td>\n",
       "      <td>2</td>\n",
       "    </tr>\n",
       "    <tr>\n",
       "      <th>2</th>\n",
       "      <td>12348.0</td>\n",
       "      <td>2011-09-25</td>\n",
       "      <td>75</td>\n",
       "    </tr>\n",
       "    <tr>\n",
       "      <th>3</th>\n",
       "      <td>12349.0</td>\n",
       "      <td>2011-11-21</td>\n",
       "      <td>18</td>\n",
       "    </tr>\n",
       "    <tr>\n",
       "      <th>4</th>\n",
       "      <td>12350.0</td>\n",
       "      <td>2011-02-02</td>\n",
       "      <td>310</td>\n",
       "    </tr>\n",
       "  </tbody>\n",
       "</table>\n",
       "</div>"
      ],
      "text/plain": [
       "   CustomerID LastTransactionDate  recency\n",
       "0     12346.0          2011-01-18      325\n",
       "1     12347.0          2011-12-07        2\n",
       "2     12348.0          2011-09-25       75\n",
       "3     12349.0          2011-11-21       18\n",
       "4     12350.0          2011-02-02      310"
      ]
     },
     "execution_count": 18,
     "metadata": {},
     "output_type": "execute_result"
    }
   ],
   "source": [
    "recency.head()"
   ]
  },
  {
   "cell_type": "code",
   "execution_count": 19,
   "id": "51f4db8d-f5c3-45e2-9e03-580933f2f51a",
   "metadata": {
    "id": "lfo2kSQi_pUl"
   },
   "outputs": [],
   "source": [
    "# calculate frequency\n",
    "frequency = pd.DataFrame()\n",
    "frequency['CustomerID'] = [i for i in df1['CustomerID'].unique()]\n",
    "frequency['frequency'] = df1.groupby('CustomerID')['CustomerID'].transform('count')\n",
    "frequency[\"frequency\"] = df.groupby('CustomerID', as_index=False)[\"CustomerID\"].count()"
   ]
  },
  {
   "cell_type": "code",
   "execution_count": 20,
   "id": "808fdd75-ee47-4f79-bbc7-d78b00772f0c",
   "metadata": {
    "id": "fkTIt6OS29Yv"
   },
   "outputs": [],
   "source": [
    "# calculate monetary\n",
    "monetary = df1.groupby(by='CustomerID', as_index = False).agg({'TotalCost':'sum'})\n",
    "monetary.columns = ['CustomerID', 'monetary']"
   ]
  },
  {
   "cell_type": "code",
   "execution_count": 21,
   "id": "dce47400-37e4-432c-a64b-e0c3c747f7e5",
   "metadata": {
    "id": "4T2rE5L__pUm"
   },
   "outputs": [],
   "source": [
    "rf = pd.merge(recency, frequency, on=\"CustomerID\")\n",
    "rfm = pd.merge(rf, monetary, on='CustomerID')"
   ]
  },
  {
   "cell_type": "code",
   "execution_count": 22,
   "id": "8750b85d-39f5-4489-8e38-755700b32e45",
   "metadata": {
    "id": "H7l-29X9_pUn",
    "outputId": "eeaee594-1364-4f2d-a538-d3eb03680766"
   },
   "outputs": [
    {
     "data": {
      "text/html": [
       "<div>\n",
       "<style scoped>\n",
       "    .dataframe tbody tr th:only-of-type {\n",
       "        vertical-align: middle;\n",
       "    }\n",
       "\n",
       "    .dataframe tbody tr th {\n",
       "        vertical-align: top;\n",
       "    }\n",
       "\n",
       "    .dataframe thead th {\n",
       "        text-align: right;\n",
       "    }\n",
       "</style>\n",
       "<table border=\"1\" class=\"dataframe\">\n",
       "  <thead>\n",
       "    <tr style=\"text-align: right;\">\n",
       "      <th></th>\n",
       "      <th>CustomerID</th>\n",
       "      <th>LastTransactionDate</th>\n",
       "      <th>recency</th>\n",
       "      <th>frequency</th>\n",
       "      <th>monetary</th>\n",
       "    </tr>\n",
       "  </thead>\n",
       "  <tbody>\n",
       "    <tr>\n",
       "      <th>0</th>\n",
       "      <td>12346.0</td>\n",
       "      <td>2011-01-18</td>\n",
       "      <td>325</td>\n",
       "      <td>33</td>\n",
       "      <td>0.00</td>\n",
       "    </tr>\n",
       "    <tr>\n",
       "      <th>1</th>\n",
       "      <td>12347.0</td>\n",
       "      <td>2011-12-07</td>\n",
       "      <td>2</td>\n",
       "      <td>72</td>\n",
       "      <td>4310.00</td>\n",
       "    </tr>\n",
       "    <tr>\n",
       "      <th>2</th>\n",
       "      <td>12348.0</td>\n",
       "      <td>2011-09-25</td>\n",
       "      <td>75</td>\n",
       "      <td>22</td>\n",
       "      <td>1797.24</td>\n",
       "    </tr>\n",
       "    <tr>\n",
       "      <th>3</th>\n",
       "      <td>12349.0</td>\n",
       "      <td>2011-11-21</td>\n",
       "      <td>18</td>\n",
       "      <td>454</td>\n",
       "      <td>1757.55</td>\n",
       "    </tr>\n",
       "    <tr>\n",
       "      <th>4</th>\n",
       "      <td>12350.0</td>\n",
       "      <td>2011-02-02</td>\n",
       "      <td>310</td>\n",
       "      <td>107</td>\n",
       "      <td>334.40</td>\n",
       "    </tr>\n",
       "  </tbody>\n",
       "</table>\n",
       "</div>"
      ],
      "text/plain": [
       "   CustomerID LastTransactionDate  recency  frequency  monetary\n",
       "0     12346.0          2011-01-18      325         33      0.00\n",
       "1     12347.0          2011-12-07        2         72   4310.00\n",
       "2     12348.0          2011-09-25       75         22   1797.24\n",
       "3     12349.0          2011-11-21       18        454   1757.55\n",
       "4     12350.0          2011-02-02      310        107    334.40"
      ]
     },
     "execution_count": 22,
     "metadata": {},
     "output_type": "execute_result"
    }
   ],
   "source": [
    "rfm.head()"
   ]
  },
  {
   "cell_type": "code",
   "execution_count": 23,
   "id": "60193f1e-a5d4-46b3-b324-6a7ab1afccf1",
   "metadata": {
    "id": "yCJTfdNO_pUo",
    "outputId": "b91bbe87-39ea-402a-a8b6-1e1d05690e83"
   },
   "outputs": [
    {
     "data": {
      "text/html": [
       "<div>\n",
       "<style scoped>\n",
       "    .dataframe tbody tr th:only-of-type {\n",
       "        vertical-align: middle;\n",
       "    }\n",
       "\n",
       "    .dataframe tbody tr th {\n",
       "        vertical-align: top;\n",
       "    }\n",
       "\n",
       "    .dataframe thead th {\n",
       "        text-align: right;\n",
       "    }\n",
       "</style>\n",
       "<table border=\"1\" class=\"dataframe\">\n",
       "  <thead>\n",
       "    <tr style=\"text-align: right;\">\n",
       "      <th></th>\n",
       "      <th>CustomerID</th>\n",
       "      <th>recency</th>\n",
       "      <th>frequency</th>\n",
       "      <th>monetary</th>\n",
       "    </tr>\n",
       "  </thead>\n",
       "  <tbody>\n",
       "    <tr>\n",
       "      <th>0.25</th>\n",
       "      <td>13812.75</td>\n",
       "      <td>16.0</td>\n",
       "      <td>17.0</td>\n",
       "      <td>293.3625</td>\n",
       "    </tr>\n",
       "    <tr>\n",
       "      <th>0.50</th>\n",
       "      <td>15300.50</td>\n",
       "      <td>50.0</td>\n",
       "      <td>42.0</td>\n",
       "      <td>648.0750</td>\n",
       "    </tr>\n",
       "    <tr>\n",
       "      <th>0.75</th>\n",
       "      <td>16778.25</td>\n",
       "      <td>143.0</td>\n",
       "      <td>102.0</td>\n",
       "      <td>1611.7250</td>\n",
       "    </tr>\n",
       "  </tbody>\n",
       "</table>\n",
       "</div>"
      ],
      "text/plain": [
       "      CustomerID  recency  frequency   monetary\n",
       "0.25    13812.75     16.0       17.0   293.3625\n",
       "0.50    15300.50     50.0       42.0   648.0750\n",
       "0.75    16778.25    143.0      102.0  1611.7250"
      ]
     },
     "execution_count": 23,
     "metadata": {},
     "output_type": "execute_result"
    }
   ],
   "source": [
    "quantiles = rfm.quantile(q=[0.25, 0.5, 0.75])\n",
    "quantiles"
   ]
  },
  {
   "cell_type": "code",
   "execution_count": 24,
   "id": "c38df56f-ab9d-402c-a704-1b46dc30e997",
   "metadata": {
    "id": "LHB-nToQ_pUq"
   },
   "outputs": [],
   "source": [
    "# function to get quantiles score\n",
    "# arguments : (x = value, p = recency, monetary_value, frequency, k = quartiles dict)\n",
    "\n",
    "def RScore(x,p,d):\n",
    "    if x <= d[p][0.25]:\n",
    "        return 1\n",
    "    elif x <= d[p][0.50]:\n",
    "        return 2\n",
    "    elif x <= d[p][0.75]: \n",
    "        return 3\n",
    "    else:\n",
    "        return 4\n",
    "    \n",
    "def FMScore(x,p,d):\n",
    "    if x <= d[p][0.25]:\n",
    "        return 4\n",
    "    elif x <= d[p][0.50]:\n",
    "        return 3\n",
    "    elif x <= d[p][0.75]: \n",
    "        return 2\n",
    "    else:\n",
    "        return 1"
   ]
  },
  {
   "cell_type": "code",
   "execution_count": 25,
   "id": "0aeae26e-94b8-48c8-b98b-e7efcb006d59",
   "metadata": {
    "id": "wYaFPpff_pUs"
   },
   "outputs": [],
   "source": [
    "# rfm segmentation score\n",
    "rfm['R_Quartile'] = rfm['recency'].apply(RScore, args=('recency',quantiles))\n",
    "rfm['F_Quartile'] = rfm['frequency'].apply(FMScore, args=('frequency',quantiles))\n",
    "rfm['M_Quartile'] = rfm['monetary'].apply(FMScore, args=('monetary',quantiles))"
   ]
  },
  {
   "cell_type": "code",
   "execution_count": 26,
   "id": "e966c8ed-26b5-4808-835f-d1281acebce8",
   "metadata": {
    "id": "lEeZlCvV_pUt"
   },
   "outputs": [],
   "source": [
    "# calculate rfm score\n",
    "rfm['RFMScore'] =  rfm[\"R_Quartile\"].map(str) + rfm[\"F_Quartile\"].map(str) + rfm[\"M_Quartile\"].map(str)"
   ]
  },
  {
   "cell_type": "code",
   "execution_count": 27,
   "id": "af7b5d56-3882-4fd4-a44f-33ec43076ac5",
   "metadata": {
    "id": "4GTA3JL1_pUt",
    "outputId": "65760755-da21-4f1b-d2f8-a0b2dc96790e"
   },
   "outputs": [
    {
     "data": {
      "text/html": [
       "<div>\n",
       "<style scoped>\n",
       "    .dataframe tbody tr th:only-of-type {\n",
       "        vertical-align: middle;\n",
       "    }\n",
       "\n",
       "    .dataframe tbody tr th {\n",
       "        vertical-align: top;\n",
       "    }\n",
       "\n",
       "    .dataframe thead th {\n",
       "        text-align: right;\n",
       "    }\n",
       "</style>\n",
       "<table border=\"1\" class=\"dataframe\">\n",
       "  <thead>\n",
       "    <tr style=\"text-align: right;\">\n",
       "      <th></th>\n",
       "      <th>CustomerID</th>\n",
       "      <th>LastTransactionDate</th>\n",
       "      <th>recency</th>\n",
       "      <th>frequency</th>\n",
       "      <th>monetary</th>\n",
       "      <th>R_Quartile</th>\n",
       "      <th>F_Quartile</th>\n",
       "      <th>M_Quartile</th>\n",
       "      <th>RFMScore</th>\n",
       "    </tr>\n",
       "  </thead>\n",
       "  <tbody>\n",
       "    <tr>\n",
       "      <th>0</th>\n",
       "      <td>12346.0</td>\n",
       "      <td>2011-01-18</td>\n",
       "      <td>325</td>\n",
       "      <td>33</td>\n",
       "      <td>0.00</td>\n",
       "      <td>4</td>\n",
       "      <td>3</td>\n",
       "      <td>4</td>\n",
       "      <td>434</td>\n",
       "    </tr>\n",
       "    <tr>\n",
       "      <th>1</th>\n",
       "      <td>12347.0</td>\n",
       "      <td>2011-12-07</td>\n",
       "      <td>2</td>\n",
       "      <td>72</td>\n",
       "      <td>4310.00</td>\n",
       "      <td>1</td>\n",
       "      <td>2</td>\n",
       "      <td>1</td>\n",
       "      <td>121</td>\n",
       "    </tr>\n",
       "    <tr>\n",
       "      <th>2</th>\n",
       "      <td>12348.0</td>\n",
       "      <td>2011-09-25</td>\n",
       "      <td>75</td>\n",
       "      <td>22</td>\n",
       "      <td>1797.24</td>\n",
       "      <td>3</td>\n",
       "      <td>3</td>\n",
       "      <td>1</td>\n",
       "      <td>331</td>\n",
       "    </tr>\n",
       "    <tr>\n",
       "      <th>3</th>\n",
       "      <td>12349.0</td>\n",
       "      <td>2011-11-21</td>\n",
       "      <td>18</td>\n",
       "      <td>454</td>\n",
       "      <td>1757.55</td>\n",
       "      <td>2</td>\n",
       "      <td>1</td>\n",
       "      <td>1</td>\n",
       "      <td>211</td>\n",
       "    </tr>\n",
       "    <tr>\n",
       "      <th>4</th>\n",
       "      <td>12350.0</td>\n",
       "      <td>2011-02-02</td>\n",
       "      <td>310</td>\n",
       "      <td>107</td>\n",
       "      <td>334.40</td>\n",
       "      <td>4</td>\n",
       "      <td>1</td>\n",
       "      <td>3</td>\n",
       "      <td>413</td>\n",
       "    </tr>\n",
       "  </tbody>\n",
       "</table>\n",
       "</div>"
      ],
      "text/plain": [
       "   CustomerID LastTransactionDate  recency  frequency  monetary  R_Quartile  \\\n",
       "0     12346.0          2011-01-18      325         33      0.00           4   \n",
       "1     12347.0          2011-12-07        2         72   4310.00           1   \n",
       "2     12348.0          2011-09-25       75         22   1797.24           3   \n",
       "3     12349.0          2011-11-21       18        454   1757.55           2   \n",
       "4     12350.0          2011-02-02      310        107    334.40           4   \n",
       "\n",
       "   F_Quartile  M_Quartile RFMScore  \n",
       "0           3           4      434  \n",
       "1           2           1      121  \n",
       "2           3           1      331  \n",
       "3           1           1      211  \n",
       "4           1           3      413  "
      ]
     },
     "execution_count": 27,
     "metadata": {},
     "output_type": "execute_result"
    }
   ],
   "source": [
    "rfm.head()"
   ]
  },
  {
   "cell_type": "code",
   "execution_count": 28,
   "id": "55ac95df-1506-43bf-a164-d95b19de603d",
   "metadata": {
    "id": "pHCAYQKR_pUu"
   },
   "outputs": [],
   "source": [
    "# set segment name, urutannya dari atas\n",
    "segname=[]\n",
    "for i,j,k in zip(rfm[\"RFMScore\"], rfm[\"F_Quartile\"], rfm[\"M_Quartile\"]):\n",
    "    if i == \"111\":\n",
    "        segname.append(\"Best Customers\")\n",
    "    elif i == \"311\":\n",
    "        segname.append(\"Almost Lost\")\n",
    "    elif i == \"411\":\n",
    "        segname.append(\"Lost Customers\")\n",
    "    elif i == \"444\":\n",
    "        segname.append(\"Lost Cheap Customers\")\n",
    "    elif j == 1:\n",
    "        segname.append(\"Loyal Customers\")\n",
    "    elif k == 1:\n",
    "        segname.append(\"Big Spenders\")\n",
    "    else:\n",
    "        segname.append(\"Other\")"
   ]
  },
  {
   "cell_type": "code",
   "execution_count": 29,
   "id": "0fb41ce8-02bd-4c43-87ab-e23075e7e902",
   "metadata": {
    "id": "Hy0JE8VR_pUu"
   },
   "outputs": [],
   "source": [
    "# get segment name\n",
    "rfm[\"segment\"] = segname"
   ]
  },
  {
   "cell_type": "code",
   "execution_count": 30,
   "id": "62763c96-26d8-4a5e-bb99-b4745ac566f4",
   "metadata": {
    "id": "yEMHj8fq_pUu",
    "outputId": "245a84c7-f268-416a-8c6b-6ac76f9709ae"
   },
   "outputs": [
    {
     "data": {
      "text/plain": [
       "Other                   2327\n",
       "Loyal Customers          889\n",
       "Big Spenders             820\n",
       "Lost Cheap Customers     144\n",
       "Best Customers           137\n",
       "Almost Lost               47\n",
       "Lost Customers             8\n",
       "Name: segment, dtype: int64"
      ]
     },
     "execution_count": 30,
     "metadata": {},
     "output_type": "execute_result"
    }
   ],
   "source": [
    "rfm['segment'].value_counts()"
   ]
  },
  {
   "cell_type": "code",
   "execution_count": 31,
   "id": "9f97230e-bafd-4415-b0e2-2088a61c7896",
   "metadata": {
    "id": "2rbzfyUx_pUv",
    "outputId": "afa9732a-4cc3-4173-e1f3-ec366f3106a3"
   },
   "outputs": [
    {
     "data": {
      "text/html": [
       "<div>\n",
       "<style scoped>\n",
       "    .dataframe tbody tr th:only-of-type {\n",
       "        vertical-align: middle;\n",
       "    }\n",
       "\n",
       "    .dataframe tbody tr th {\n",
       "        vertical-align: top;\n",
       "    }\n",
       "\n",
       "    .dataframe thead th {\n",
       "        text-align: right;\n",
       "    }\n",
       "</style>\n",
       "<table border=\"1\" class=\"dataframe\">\n",
       "  <thead>\n",
       "    <tr style=\"text-align: right;\">\n",
       "      <th></th>\n",
       "      <th>CustomerID</th>\n",
       "      <th>LastTransactionDate</th>\n",
       "      <th>recency</th>\n",
       "      <th>frequency</th>\n",
       "      <th>monetary</th>\n",
       "      <th>R_Quartile</th>\n",
       "      <th>F_Quartile</th>\n",
       "      <th>M_Quartile</th>\n",
       "      <th>RFMScore</th>\n",
       "      <th>segment</th>\n",
       "    </tr>\n",
       "  </thead>\n",
       "  <tbody>\n",
       "    <tr>\n",
       "      <th>0</th>\n",
       "      <td>12346.0</td>\n",
       "      <td>2011-01-18</td>\n",
       "      <td>325</td>\n",
       "      <td>33</td>\n",
       "      <td>0.00</td>\n",
       "      <td>4</td>\n",
       "      <td>3</td>\n",
       "      <td>4</td>\n",
       "      <td>434</td>\n",
       "      <td>Other</td>\n",
       "    </tr>\n",
       "    <tr>\n",
       "      <th>1</th>\n",
       "      <td>12347.0</td>\n",
       "      <td>2011-12-07</td>\n",
       "      <td>2</td>\n",
       "      <td>72</td>\n",
       "      <td>4310.00</td>\n",
       "      <td>1</td>\n",
       "      <td>2</td>\n",
       "      <td>1</td>\n",
       "      <td>121</td>\n",
       "      <td>Big Spenders</td>\n",
       "    </tr>\n",
       "    <tr>\n",
       "      <th>2</th>\n",
       "      <td>12348.0</td>\n",
       "      <td>2011-09-25</td>\n",
       "      <td>75</td>\n",
       "      <td>22</td>\n",
       "      <td>1797.24</td>\n",
       "      <td>3</td>\n",
       "      <td>3</td>\n",
       "      <td>1</td>\n",
       "      <td>331</td>\n",
       "      <td>Big Spenders</td>\n",
       "    </tr>\n",
       "    <tr>\n",
       "      <th>3</th>\n",
       "      <td>12349.0</td>\n",
       "      <td>2011-11-21</td>\n",
       "      <td>18</td>\n",
       "      <td>454</td>\n",
       "      <td>1757.55</td>\n",
       "      <td>2</td>\n",
       "      <td>1</td>\n",
       "      <td>1</td>\n",
       "      <td>211</td>\n",
       "      <td>Loyal Customers</td>\n",
       "    </tr>\n",
       "    <tr>\n",
       "      <th>4</th>\n",
       "      <td>12350.0</td>\n",
       "      <td>2011-02-02</td>\n",
       "      <td>310</td>\n",
       "      <td>107</td>\n",
       "      <td>334.40</td>\n",
       "      <td>4</td>\n",
       "      <td>1</td>\n",
       "      <td>3</td>\n",
       "      <td>413</td>\n",
       "      <td>Loyal Customers</td>\n",
       "    </tr>\n",
       "  </tbody>\n",
       "</table>\n",
       "</div>"
      ],
      "text/plain": [
       "   CustomerID LastTransactionDate  recency  frequency  monetary  R_Quartile  \\\n",
       "0     12346.0          2011-01-18      325         33      0.00           4   \n",
       "1     12347.0          2011-12-07        2         72   4310.00           1   \n",
       "2     12348.0          2011-09-25       75         22   1797.24           3   \n",
       "3     12349.0          2011-11-21       18        454   1757.55           2   \n",
       "4     12350.0          2011-02-02      310        107    334.40           4   \n",
       "\n",
       "   F_Quartile  M_Quartile RFMScore          segment  \n",
       "0           3           4      434            Other  \n",
       "1           2           1      121     Big Spenders  \n",
       "2           3           1      331     Big Spenders  \n",
       "3           1           1      211  Loyal Customers  \n",
       "4           1           3      413  Loyal Customers  "
      ]
     },
     "execution_count": 31,
     "metadata": {},
     "output_type": "execute_result"
    }
   ],
   "source": [
    "rfm.head()"
   ]
  },
  {
   "cell_type": "code",
   "execution_count": 32,
   "id": "e5e2785b-063c-4c4c-9c39-4d0d45aacc6d",
   "metadata": {
    "id": "KT7N3-8j_pUv"
   },
   "outputs": [],
   "source": [
    "cnt_seg = rfm.groupby(\"segment\", as_index=False)[\"CustomerID\"].nunique().sort_values(by = \"CustomerID\", ascending=False).reset_index()\n",
    "\n",
    "cnt_seg[\"pct\"] = round(cnt_seg[\"CustomerID\"]/sum(cnt_seg[\"CustomerID\"]) *100, 1)"
   ]
  },
  {
   "cell_type": "code",
   "execution_count": 33,
   "id": "6873f1e0-d9fc-48a0-bc50-e795fc3a36b1",
   "metadata": {
    "id": "2ntyX_PD_pUv",
    "outputId": "7b7406e5-55d7-430f-c00e-c2ca3a77895d"
   },
   "outputs": [
    {
     "data": {
      "text/html": [
       "<div>\n",
       "<style scoped>\n",
       "    .dataframe tbody tr th:only-of-type {\n",
       "        vertical-align: middle;\n",
       "    }\n",
       "\n",
       "    .dataframe tbody tr th {\n",
       "        vertical-align: top;\n",
       "    }\n",
       "\n",
       "    .dataframe thead th {\n",
       "        text-align: right;\n",
       "    }\n",
       "</style>\n",
       "<table border=\"1\" class=\"dataframe\">\n",
       "  <thead>\n",
       "    <tr style=\"text-align: right;\">\n",
       "      <th></th>\n",
       "      <th>index</th>\n",
       "      <th>segment</th>\n",
       "      <th>CustomerID</th>\n",
       "      <th>pct</th>\n",
       "    </tr>\n",
       "  </thead>\n",
       "  <tbody>\n",
       "    <tr>\n",
       "      <th>0</th>\n",
       "      <td>6</td>\n",
       "      <td>Other</td>\n",
       "      <td>2327</td>\n",
       "      <td>53.2</td>\n",
       "    </tr>\n",
       "    <tr>\n",
       "      <th>1</th>\n",
       "      <td>5</td>\n",
       "      <td>Loyal Customers</td>\n",
       "      <td>889</td>\n",
       "      <td>20.3</td>\n",
       "    </tr>\n",
       "    <tr>\n",
       "      <th>2</th>\n",
       "      <td>2</td>\n",
       "      <td>Big Spenders</td>\n",
       "      <td>820</td>\n",
       "      <td>18.8</td>\n",
       "    </tr>\n",
       "    <tr>\n",
       "      <th>3</th>\n",
       "      <td>3</td>\n",
       "      <td>Lost Cheap Customers</td>\n",
       "      <td>144</td>\n",
       "      <td>3.3</td>\n",
       "    </tr>\n",
       "    <tr>\n",
       "      <th>4</th>\n",
       "      <td>1</td>\n",
       "      <td>Best Customers</td>\n",
       "      <td>137</td>\n",
       "      <td>3.1</td>\n",
       "    </tr>\n",
       "  </tbody>\n",
       "</table>\n",
       "</div>"
      ],
      "text/plain": [
       "   index               segment  CustomerID   pct\n",
       "0      6                 Other        2327  53.2\n",
       "1      5       Loyal Customers         889  20.3\n",
       "2      2          Big Spenders         820  18.8\n",
       "3      3  Lost Cheap Customers         144   3.3\n",
       "4      1        Best Customers         137   3.1"
      ]
     },
     "execution_count": 33,
     "metadata": {},
     "output_type": "execute_result"
    }
   ],
   "source": [
    "cnt_seg.head()"
   ]
  },
  {
   "cell_type": "code",
   "execution_count": 34,
   "id": "e696d2fa-0bcf-4077-a468-9d64e91f15cf",
   "metadata": {
    "id": "i1cNhXiY_pUw",
    "outputId": "69034ae0-dc42-4db0-cecf-4f239ca780b5"
   },
   "outputs": [
    {
     "data": {
      "image/png": "[encoded data removed]",
      "text/plain": [
       "<Figure size 504x504 with 1 Axes>"
      ]
     },
     "metadata": {},
     "output_type": "display_data"
    }
   ],
   "source": [
    "# visualisasi hasil\n",
    "plt.figure(figsize=(7,7))\n",
    "plt.pie(cnt_seg[\"CustomerID\"], \n",
    "        autopct = '%.1f%%', \n",
    "        textprops = {'fontsize' : 8, \n",
    "                     'color' : 'white'})\n",
    "plt.title(\"RFM Segmentation\", fontsize=20)\n",
    "plt.legend(cnt_seg[\"segment\"], loc='lower right', prop={'size': 7.7})\n",
    "plt.tight_layout()\n",
    "plt.show()"
   ]
  },
  {
   "cell_type": "code",
   "execution_count": 35,
   "id": "21dce0c4-89c2-40b2-8f95-044d99926057",
   "metadata": {
    "id": "-Rb9nXjp_pUw"
   },
   "outputs": [],
   "source": [
    "# takeout other\n",
    "seg_new = cnt_seg[cnt_seg[\"segment\"]!=\"Other\"]"
   ]
  },
  {
   "cell_type": "code",
   "execution_count": 36,
   "id": "2d3fddbb-1fee-4732-8d86-b084c3be22f0",
   "metadata": {
    "id": "QxLexR1O_pUw",
    "outputId": "aeb5c780-71b4-4996-e442-d89e58eab9e1"
   },
   "outputs": [
    {
     "data": {
      "image/png": "[encoded data removed]",
      "text/plain": [
       "<Figure size 720x432 with 1 Axes>"
      ]
     },
     "metadata": {
      "needs_background": "light"
     },
     "output_type": "display_data"
    }
   ],
   "source": [
    "# visualisasi dengan barplot (takeout other segment)\n",
    "plt.figure(figsize=(10,6))\n",
    "x = seg_new[\"segment\"]\n",
    "y = seg_new[\"CustomerID\"]\n",
    "percentage = [i for i in seg_new[\"pct\"]]\n",
    "ax = sns.barplot(x=x, y=y)\n",
    "patches = ax.patches\n",
    "for i in range(len(patches)):\n",
    "    x = patches[i].get_x() + patches[i].get_width()/2\n",
    "    y = patches[i].get_height()+15\n",
    "    ax.annotate(f'{percentage[i]}%', (x, y), ha='center')\n",
    "plt.title(\"RFM Segmentation (Other Removed)\")\n",
    "plt.xticks(rotation=20)\n",
    "plt.show()"
   ]
  },
  {
   "cell_type": "code",
   "execution_count": 37,
   "id": "834ab9f2-76c7-472c-be0b-1368fa27f4cc",
   "metadata": {
    "id": "qz1cYO0K_pUx",
    "outputId": "199968d1-feb8-41b2-ccef-dc325c02f892",
    "tags": []
   },
   "outputs": [
    {
     "data": {
      "text/plain": [
       "<seaborn.axisgrid.PairGrid at 0x7fe4810d6ac0>"
      ]
     },
     "execution_count": 37,
     "metadata": {},
     "output_type": "execute_result"
    },
    {
     "data": {
      "image/png": "[encoded data removed]",
      "text/plain": [
       "<Figure size 688x540 with 12 Axes>"
      ]
     },
     "metadata": {
      "needs_background": "light"
     },
     "output_type": "display_data"
    }
   ],
   "source": [
    "rfm_to_plot = rfm[['recency', 'frequency', 'monetary', 'segment']]\n",
    "sns.pairplot(rfm_to_plot, hue = \"segment\")"
   ]
  },
  {
   "cell_type": "markdown",
   "id": "cfb4c38b-a7d8-436e-adb7-a5f650a33136",
   "metadata": {
    "id": "w2LXXZiJ_pUx"
   },
   "source": [
    "Summary:\n",
    "- Jumlah 'Other' segment masih diatas 50%, ini masih dapat dilakukan segmentasi untuk mendapatkan insight segment lebih lanjut.\n",
    "- Jumlah tertinggi setelah itu adalah pada segment 'Loyal Customers' dan 'Big Spender', artinya jumlah customer sehat masih tinggi. Bisa dibuat program campaign khusus untuk meningkatkan jumlah customer dalam kategori ini.\n",
    "- Jumlah 'Best Customer' masih rendah, yaitu 3.1%. Sebaiknya dilakukan loyalty program, agar menjaga customer ini.\n",
    "- Jumlah 'Lost Cheap Customers', 'Lost Customers', dan 'Almost Lost' kurang dari 5%. Untuk menarik customer ini, perlu retargeting terhadap customer tsb, seperti membuat inovasi produk yang sesuai dengan kebutuhan customer ini."
   ]
  }
 ],
 "metadata": {
  "kernelspec": {
   "display_name": "Python 3 (ipykernel)",
   "language": "python",
   "name": "python3"
  },
  "language_info": {
   "codemirror_mode": {
    "name": "ipython",
    "version": 3
   },
   "file_extension": ".py",
   "mimetype": "text/x-python",
   "name": "python",
   "nbconvert_exporter": "python",
   "pygments_lexer": "ipython3",
   "version": "3.9.12"
  }
 },
 "nbformat": 4,
 "nbformat_minor": 5
}
